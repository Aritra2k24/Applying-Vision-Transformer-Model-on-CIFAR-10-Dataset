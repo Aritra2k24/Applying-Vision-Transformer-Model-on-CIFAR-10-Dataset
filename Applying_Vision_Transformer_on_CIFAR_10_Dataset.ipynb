{
 "cells": [
  {
   "cell_type": "markdown",
   "metadata": {},
   "source": [
    "### Importing Libraries"
   ]
  },
  {
   "cell_type": "code",
   "execution_count": 1,
   "metadata": {
    "id": "sUubLQ4z0Kf3"
   },
   "outputs": [],
   "source": [
    "import torch\n",
    "import torch.nn as nn\n",
    "import torch.nn.functional as F\n",
    "import torch.optim as optim\n",
    "from torch.utils.data import DataLoader\n",
    "import torchvision\n",
    "from torchvision import datasets, transforms\n",
    "import numpy as np\n",
    "import random\n",
    "import matplotlib.pyplot as plt"
   ]
  },
  {
   "cell_type": "code",
   "execution_count": 2,
   "metadata": {
    "colab": {
     "base_uri": "https://localhost:8080/",
     "height": 36
    },
    "id": "4zTz1PFu2J3w",
    "outputId": "2ccd5d62-d88e-4dd4-b50e-ddad8e87967e"
   },
   "outputs": [
    {
     "data": {
      "application/vnd.google.colaboratory.intrinsic+json": {
       "type": "string"
      },
      "text/plain": [
       "'2.6.0+cu124'"
      ]
     },
     "execution_count": 2,
     "metadata": {},
     "output_type": "execute_result"
    }
   ],
   "source": [
    "torch.__version__"
   ]
  },
  {
   "cell_type": "code",
   "execution_count": 3,
   "metadata": {
    "colab": {
     "base_uri": "https://localhost:8080/",
     "height": 36
    },
    "id": "SEXm_2cf2OiH",
    "outputId": "7dd8e466-e351-4d4f-8bbb-f0b543bffdfa"
   },
   "outputs": [
    {
     "data": {
      "application/vnd.google.colaboratory.intrinsic+json": {
       "type": "string"
      },
      "text/plain": [
       "'0.21.0+cu124'"
      ]
     },
     "execution_count": 3,
     "metadata": {},
     "output_type": "execute_result"
    }
   ],
   "source": [
    "torchvision.__version__"
   ]
  },
  {
   "cell_type": "code",
   "execution_count": 4,
   "metadata": {
    "colab": {
     "base_uri": "https://localhost:8080/"
    },
    "id": "VxLUseti2qqx",
    "outputId": "8a63844c-e562-49b4-cc45-414d48d6ac05"
   },
   "outputs": [
    {
     "data": {
      "text/plain": [
       "True"
      ]
     },
     "execution_count": 4,
     "metadata": {},
     "output_type": "execute_result"
    }
   ],
   "source": [
    "torch.cuda.is_available()"
   ]
  },
  {
   "cell_type": "code",
   "execution_count": 5,
   "metadata": {
    "colab": {
     "base_uri": "https://localhost:8080/",
     "height": 36
    },
    "id": "UlPDxUUH2Zye",
    "outputId": "6afdde6e-9920-4f75-a17e-b0ff7d9f1dd8"
   },
   "outputs": [
    {
     "data": {
      "application/vnd.google.colaboratory.intrinsic+json": {
       "type": "string"
      },
      "text/plain": [
       "'cuda'"
      ]
     },
     "execution_count": 5,
     "metadata": {},
     "output_type": "execute_result"
    }
   ],
   "source": [
    "device = 'cuda' if torch.cuda.is_available() else 'cpu'\n",
    "device"
   ]
  },
  {
   "cell_type": "code",
   "execution_count": 6,
   "metadata": {
    "colab": {
     "base_uri": "https://localhost:8080/"
    },
    "id": "7U1GomJr3DV2",
    "outputId": "1e67cdfb-9703-4836-94ba-1c49cb0accba"
   },
   "outputs": [
    {
     "name": "stdout",
     "output_type": "stream",
     "text": [
      "using device:cuda\n"
     ]
    }
   ],
   "source": [
    "print(f\"using device:{device}\")"
   ]
  },
  {
   "cell_type": "code",
   "execution_count": 7,
   "metadata": {
    "id": "V_JQFIKZ3ItH"
   },
   "outputs": [],
   "source": [
    "torch.manual_seed(42)\n",
    "torch.cuda.manual_seed(42)\n",
    "random.seed(42)"
   ]
  },
  {
   "cell_type": "markdown",
   "metadata": {},
   "source": [
    "### Initializing the Hyperparameters"
   ]
  },
  {
   "cell_type": "code",
   "execution_count": 102,
   "metadata": {
    "id": "cczNMrjv3VOr"
   },
   "outputs": [],
   "source": [
    "BATCH_SIZE = 128\n",
    "EPOCHS = 30\n",
    "LEARNING_RATE = 3e-4\n",
    "PATCH_SIZE = 4\n",
    "NUM_CLASSES = 20\n",
    "IMAGE_SIZE = 32\n",
    "NUM_CHANNELS = 3\n",
    "EMBED_DIM = 256\n",
    "NUM_HEADS = 16\n",
    "DEPTH = 10\n",
    "MLP_DIMENSION = 512\n",
    "DROP_RATE = 0.1"
   ]
  },
  {
   "cell_type": "markdown",
   "metadata": {},
   "source": [
    "### Data Transformation"
   ]
  },
  {
   "cell_type": "code",
   "execution_count": 103,
   "metadata": {
    "id": "0VUkhaTz4Ld8"
   },
   "outputs": [],
   "source": [
    "transform = transforms.Compose([\n",
    "    transforms.RandomCrop(32,padding = 4),\n",
    "    transforms.RandomHorizontalFlip(),\n",
    "    transforms.RandomRotation(10),\n",
    "    transforms.ColorJitter(brightness = 0.2, contrast = 0.2, saturation = 0.2, hue = 0.2),\n",
    "    transforms.ToTensor(),\n",
    "    transforms.Normalize(0.5, 0.5)\n",
    "\n",
    "])"
   ]
  },
  {
   "cell_type": "markdown",
   "metadata": {},
   "source": [
    "### Loading the Dataset"
   ]
  },
  {
   "cell_type": "code",
   "execution_count": 104,
   "metadata": {
    "id": "XDy91nBa4toz"
   },
   "outputs": [],
   "source": [
    "train_dataset = datasets.CIFAR10(root = 'data', train = True, download = True, transform = transform)\n"
   ]
  },
  {
   "cell_type": "code",
   "execution_count": 105,
   "metadata": {
    "id": "SthNoOie5nEz"
   },
   "outputs": [],
   "source": [
    "test_dataset = datasets.CIFAR10(root = 'data',train= False,download = True, transform = transform)"
   ]
  },
  {
   "cell_type": "code",
   "execution_count": 106,
   "metadata": {
    "colab": {
     "base_uri": "https://localhost:8080/"
    },
    "id": "-1Je7RDa51vC",
    "outputId": "269a5510-0e03-4291-eb04-f16ffe36a774"
   },
   "outputs": [
    {
     "data": {
      "text/plain": [
       "Dataset CIFAR10\n",
       "    Number of datapoints: 50000\n",
       "    Root location: data\n",
       "    Split: Train\n",
       "    StandardTransform\n",
       "Transform: Compose(\n",
       "               RandomCrop(size=(32, 32), padding=4)\n",
       "               RandomHorizontalFlip(p=0.5)\n",
       "               RandomRotation(degrees=[-10.0, 10.0], interpolation=nearest, expand=False, fill=0)\n",
       "               ColorJitter(brightness=(0.8, 1.2), contrast=(0.8, 1.2), saturation=(0.8, 1.2), hue=(-0.2, 0.2))\n",
       "               ToTensor()\n",
       "               Normalize(mean=0.5, std=0.5)\n",
       "           )"
      ]
     },
     "execution_count": 106,
     "metadata": {},
     "output_type": "execute_result"
    }
   ],
   "source": [
    "train_dataset"
   ]
  },
  {
   "cell_type": "code",
   "execution_count": 107,
   "metadata": {
    "colab": {
     "base_uri": "https://localhost:8080/"
    },
    "id": "dx9q6jAb58g6",
    "outputId": "3506cfe3-dd26-4d4c-96b7-36f8af5aae28"
   },
   "outputs": [
    {
     "data": {
      "text/plain": [
       "Dataset CIFAR10\n",
       "    Number of datapoints: 10000\n",
       "    Root location: data\n",
       "    Split: Test\n",
       "    StandardTransform\n",
       "Transform: Compose(\n",
       "               RandomCrop(size=(32, 32), padding=4)\n",
       "               RandomHorizontalFlip(p=0.5)\n",
       "               RandomRotation(degrees=[-10.0, 10.0], interpolation=nearest, expand=False, fill=0)\n",
       "               ColorJitter(brightness=(0.8, 1.2), contrast=(0.8, 1.2), saturation=(0.8, 1.2), hue=(-0.2, 0.2))\n",
       "               ToTensor()\n",
       "               Normalize(mean=0.5, std=0.5)\n",
       "           )"
      ]
     },
     "execution_count": 107,
     "metadata": {},
     "output_type": "execute_result"
    }
   ],
   "source": [
    "test_dataset"
   ]
  },
  {
   "cell_type": "code",
   "execution_count": 108,
   "metadata": {
    "id": "1XhVpM6f6BxB"
   },
   "outputs": [],
   "source": [
    "train_loader = DataLoader(dataset = train_dataset, batch_size = BATCH_SIZE, shuffle = True)\n",
    "test_loader = DataLoader(dataset = test_dataset, batch_size = BATCH_SIZE, shuffle = False)"
   ]
  },
  {
   "cell_type": "code",
   "execution_count": 110,
   "metadata": {
    "colab": {
     "base_uri": "https://localhost:8080/"
    },
    "id": "LoWaX90x7Y4D",
    "outputId": "bfff8df0-b981-4360-b509-45252ca2b252"
   },
   "outputs": [
    {
     "name": "stdout",
     "output_type": "stream",
     "text": [
      "dataloader:(<torch.utils.data.dataloader.DataLoader object at 0x79eb115261d0>, <torch.utils.data.dataloader.DataLoader object at 0x79eaf58f1b50>)\n",
      "length of train_loader:391 batches of 128\n",
      "length of test_loader:79 batches of 128\n"
     ]
    }
   ],
   "source": [
    "print(f\"dataloader:{train_loader, test_loader}\")\n",
    "print(f\"length of train_loader:{len(train_loader)} batches of {BATCH_SIZE}\")\n",
    "print(f\"length of test_loader:{len(test_loader)} batches of {BATCH_SIZE}\")"
   ]
  },
  {
   "cell_type": "markdown",
   "metadata": {},
   "source": [
    "### Patch Embedding Layer"
   ]
  },
  {
   "cell_type": "code",
   "execution_count": 112,
   "metadata": {
    "id": "EzNEXyO28R4o"
   },
   "outputs": [],
   "source": [
    "class PatchEmbedding(nn.Module):\n",
    "  def __init__(self,image_size, patch_size, in_channels,embed_dim):\n",
    "    super().__init__()\n",
    "    self.patch_size = patch_size\n",
    "    self.proj = nn.Conv2d(in_channels = in_channels, out_channels = embed_dim, kernel_size = patch_size, stride = patch_size)\n",
    "    num_patches = (image_size// patch_size) ** 2\n",
    "    self.cls_token = nn.Parameter(torch.randn(1,1,embed_dim))\n",
    "    self.pos_embed = nn.Parameter(torch.randn(1,1+num_patches,embed_dim))\n",
    "  def forward(self,x:torch.Tensor):\n",
    "    B = x.size(0)\n",
    "    x = self.proj(x)\n",
    "    x = x.flatten(2).transpose(1,2)\n",
    "    cls_token = self.cls_token.expand(B,-1,-1)\n",
    "    x = torch.cat((cls_token,x),dim = 1)\n",
    "    x = x + self.pos_embed\n",
    "    return x"
   ]
  },
  {
   "cell_type": "markdown",
   "metadata": {},
   "source": [
    "### Multi Layer Perceptron"
   ]
  },
  {
   "cell_type": "code",
   "execution_count": 113,
   "metadata": {
    "id": "Lfl_Jllz_acl"
   },
   "outputs": [],
   "source": [
    "class MLP(nn.Module):\n",
    "  def __init__(self, in_features, hidden_features, drop_out):\n",
    "    super().__init__()\n",
    "    self.fc1 = nn.Linear(in_features, hidden_features)\n",
    "    self.fc2 = nn.Linear(hidden_features,in_features)\n",
    "    self.dropout = nn.Dropout(drop_out)\n",
    "  def forward(self,x):\n",
    "    x = self.dropout(F.gelu(self.fc1(x)))\n",
    "    x = self.dropout(self.fc2(x))\n",
    "    return x\n"
   ]
  },
  {
   "cell_type": "markdown",
   "metadata": {},
   "source": [
    "### Encoder Layer"
   ]
  },
  {
   "cell_type": "code",
   "execution_count": 114,
   "metadata": {
    "id": "e7iN4V-FEimD"
   },
   "outputs": [],
   "source": [
    "class TransformerEncoderLayer(nn.Module):\n",
    "  def __init__(self, embed_dim, num_heads, mlp_dim, drop_out):\n",
    "    super().__init__()\n",
    "    self.norm1 = nn.LayerNorm(embed_dim)\n",
    "    self.attn = nn.MultiheadAttention(embed_dim, num_heads, dropout = drop_out,batch_first = True)\n",
    "    self.norm2 = nn.LayerNorm(embed_dim)\n",
    "    self.mlp = MLP(embed_dim,mlp_dim,drop_out)\n",
    "  def forward(self,x):\n",
    "    x = x + self.attn(self.norm1(x),self.norm1(x),self.norm1(x))[0]\n",
    "    x = x + self.mlp(self.norm2(x))\n",
    "    return x"
   ]
  },
  {
   "cell_type": "markdown",
   "metadata": {},
   "source": [
    "### Vision Transformer Model"
   ]
  },
  {
   "cell_type": "code",
   "execution_count": 115,
   "metadata": {
    "id": "eBjlaq7VMsor"
   },
   "outputs": [],
   "source": [
    "class VisionTransformer(nn.Module):\n",
    "  def __init__(self, image_size, patch_size, in_channels, num_classes,embed_dim, num_heads, depth, mlp_dim, drop_out):\n",
    "    super().__init__()\n",
    "    self.patch_embed = PatchEmbedding(image_size, patch_size, in_channels, embed_dim)\n",
    "    self.encoder = nn.Sequential(\n",
    "        *[TransformerEncoderLayer(embed_dim, num_heads, mlp_dim, drop_out)\n",
    "        for _ in range(depth)]\n",
    "    )\n",
    "    self.norm = nn.LayerNorm(embed_dim)\n",
    "    self.head = nn.Linear(embed_dim, num_classes)\n",
    "  def forward(self,x):\n",
    "    x = self.patch_embed(x)\n",
    "    x = self.encoder(x)\n",
    "    x = self.norm(x)\n",
    "    cls_token = x[:,0]\n",
    "    return self.head(cls_token)"
   ]
  },
  {
   "cell_type": "code",
   "execution_count": 116,
   "metadata": {
    "id": "7c0c819c"
   },
   "outputs": [],
   "source": [
    "model = VisionTransformer(\n",
    "    IMAGE_SIZE,\n",
    "    PATCH_SIZE,\n",
    "    NUM_CHANNELS,\n",
    "    NUM_CLASSES,\n",
    "    EMBED_DIM,\n",
    "    NUM_HEADS,\n",
    "    DEPTH,\n",
    "    MLP_DIMENSION,\n",
    "    DROP_RATE\n",
    ").to(device)"
   ]
  },
  {
   "cell_type": "code",
   "execution_count": 118,
   "metadata": {
    "colab": {
     "base_uri": "https://localhost:8080/"
    },
    "id": "F4ubj8F-5JIV",
    "outputId": "35fea2fb-d706-46aa-fb12-6e0bc8a66f03"
   },
   "outputs": [
    {
     "data": {
      "text/plain": [
       "VisionTransformer(\n",
       "  (patch_embed): PatchEmbedding(\n",
       "    (proj): Conv2d(3, 256, kernel_size=(4, 4), stride=(4, 4))\n",
       "  )\n",
       "  (encoder): Sequential(\n",
       "    (0): TransformerEncoderLayer(\n",
       "      (norm1): LayerNorm((256,), eps=1e-05, elementwise_affine=True)\n",
       "      (attn): MultiheadAttention(\n",
       "        (out_proj): NonDynamicallyQuantizableLinear(in_features=256, out_features=256, bias=True)\n",
       "      )\n",
       "      (norm2): LayerNorm((256,), eps=1e-05, elementwise_affine=True)\n",
       "      (mlp): MLP(\n",
       "        (fc1): Linear(in_features=256, out_features=512, bias=True)\n",
       "        (fc2): Linear(in_features=512, out_features=256, bias=True)\n",
       "        (dropout): Dropout(p=0.1, inplace=False)\n",
       "      )\n",
       "    )\n",
       "    (1): TransformerEncoderLayer(\n",
       "      (norm1): LayerNorm((256,), eps=1e-05, elementwise_affine=True)\n",
       "      (attn): MultiheadAttention(\n",
       "        (out_proj): NonDynamicallyQuantizableLinear(in_features=256, out_features=256, bias=True)\n",
       "      )\n",
       "      (norm2): LayerNorm((256,), eps=1e-05, elementwise_affine=True)\n",
       "      (mlp): MLP(\n",
       "        (fc1): Linear(in_features=256, out_features=512, bias=True)\n",
       "        (fc2): Linear(in_features=512, out_features=256, bias=True)\n",
       "        (dropout): Dropout(p=0.1, inplace=False)\n",
       "      )\n",
       "    )\n",
       "    (2): TransformerEncoderLayer(\n",
       "      (norm1): LayerNorm((256,), eps=1e-05, elementwise_affine=True)\n",
       "      (attn): MultiheadAttention(\n",
       "        (out_proj): NonDynamicallyQuantizableLinear(in_features=256, out_features=256, bias=True)\n",
       "      )\n",
       "      (norm2): LayerNorm((256,), eps=1e-05, elementwise_affine=True)\n",
       "      (mlp): MLP(\n",
       "        (fc1): Linear(in_features=256, out_features=512, bias=True)\n",
       "        (fc2): Linear(in_features=512, out_features=256, bias=True)\n",
       "        (dropout): Dropout(p=0.1, inplace=False)\n",
       "      )\n",
       "    )\n",
       "    (3): TransformerEncoderLayer(\n",
       "      (norm1): LayerNorm((256,), eps=1e-05, elementwise_affine=True)\n",
       "      (attn): MultiheadAttention(\n",
       "        (out_proj): NonDynamicallyQuantizableLinear(in_features=256, out_features=256, bias=True)\n",
       "      )\n",
       "      (norm2): LayerNorm((256,), eps=1e-05, elementwise_affine=True)\n",
       "      (mlp): MLP(\n",
       "        (fc1): Linear(in_features=256, out_features=512, bias=True)\n",
       "        (fc2): Linear(in_features=512, out_features=256, bias=True)\n",
       "        (dropout): Dropout(p=0.1, inplace=False)\n",
       "      )\n",
       "    )\n",
       "    (4): TransformerEncoderLayer(\n",
       "      (norm1): LayerNorm((256,), eps=1e-05, elementwise_affine=True)\n",
       "      (attn): MultiheadAttention(\n",
       "        (out_proj): NonDynamicallyQuantizableLinear(in_features=256, out_features=256, bias=True)\n",
       "      )\n",
       "      (norm2): LayerNorm((256,), eps=1e-05, elementwise_affine=True)\n",
       "      (mlp): MLP(\n",
       "        (fc1): Linear(in_features=256, out_features=512, bias=True)\n",
       "        (fc2): Linear(in_features=512, out_features=256, bias=True)\n",
       "        (dropout): Dropout(p=0.1, inplace=False)\n",
       "      )\n",
       "    )\n",
       "    (5): TransformerEncoderLayer(\n",
       "      (norm1): LayerNorm((256,), eps=1e-05, elementwise_affine=True)\n",
       "      (attn): MultiheadAttention(\n",
       "        (out_proj): NonDynamicallyQuantizableLinear(in_features=256, out_features=256, bias=True)\n",
       "      )\n",
       "      (norm2): LayerNorm((256,), eps=1e-05, elementwise_affine=True)\n",
       "      (mlp): MLP(\n",
       "        (fc1): Linear(in_features=256, out_features=512, bias=True)\n",
       "        (fc2): Linear(in_features=512, out_features=256, bias=True)\n",
       "        (dropout): Dropout(p=0.1, inplace=False)\n",
       "      )\n",
       "    )\n",
       "    (6): TransformerEncoderLayer(\n",
       "      (norm1): LayerNorm((256,), eps=1e-05, elementwise_affine=True)\n",
       "      (attn): MultiheadAttention(\n",
       "        (out_proj): NonDynamicallyQuantizableLinear(in_features=256, out_features=256, bias=True)\n",
       "      )\n",
       "      (norm2): LayerNorm((256,), eps=1e-05, elementwise_affine=True)\n",
       "      (mlp): MLP(\n",
       "        (fc1): Linear(in_features=256, out_features=512, bias=True)\n",
       "        (fc2): Linear(in_features=512, out_features=256, bias=True)\n",
       "        (dropout): Dropout(p=0.1, inplace=False)\n",
       "      )\n",
       "    )\n",
       "    (7): TransformerEncoderLayer(\n",
       "      (norm1): LayerNorm((256,), eps=1e-05, elementwise_affine=True)\n",
       "      (attn): MultiheadAttention(\n",
       "        (out_proj): NonDynamicallyQuantizableLinear(in_features=256, out_features=256, bias=True)\n",
       "      )\n",
       "      (norm2): LayerNorm((256,), eps=1e-05, elementwise_affine=True)\n",
       "      (mlp): MLP(\n",
       "        (fc1): Linear(in_features=256, out_features=512, bias=True)\n",
       "        (fc2): Linear(in_features=512, out_features=256, bias=True)\n",
       "        (dropout): Dropout(p=0.1, inplace=False)\n",
       "      )\n",
       "    )\n",
       "    (8): TransformerEncoderLayer(\n",
       "      (norm1): LayerNorm((256,), eps=1e-05, elementwise_affine=True)\n",
       "      (attn): MultiheadAttention(\n",
       "        (out_proj): NonDynamicallyQuantizableLinear(in_features=256, out_features=256, bias=True)\n",
       "      )\n",
       "      (norm2): LayerNorm((256,), eps=1e-05, elementwise_affine=True)\n",
       "      (mlp): MLP(\n",
       "        (fc1): Linear(in_features=256, out_features=512, bias=True)\n",
       "        (fc2): Linear(in_features=512, out_features=256, bias=True)\n",
       "        (dropout): Dropout(p=0.1, inplace=False)\n",
       "      )\n",
       "    )\n",
       "    (9): TransformerEncoderLayer(\n",
       "      (norm1): LayerNorm((256,), eps=1e-05, elementwise_affine=True)\n",
       "      (attn): MultiheadAttention(\n",
       "        (out_proj): NonDynamicallyQuantizableLinear(in_features=256, out_features=256, bias=True)\n",
       "      )\n",
       "      (norm2): LayerNorm((256,), eps=1e-05, elementwise_affine=True)\n",
       "      (mlp): MLP(\n",
       "        (fc1): Linear(in_features=256, out_features=512, bias=True)\n",
       "        (fc2): Linear(in_features=512, out_features=256, bias=True)\n",
       "        (dropout): Dropout(p=0.1, inplace=False)\n",
       "      )\n",
       "    )\n",
       "  )\n",
       "  (norm): LayerNorm((256,), eps=1e-05, elementwise_affine=True)\n",
       "  (head): Linear(in_features=256, out_features=20, bias=True)\n",
       ")"
      ]
     },
     "execution_count": 118,
     "metadata": {},
     "output_type": "execute_result"
    }
   ],
   "source": [
    "model"
   ]
  },
  {
   "cell_type": "markdown",
   "metadata": {},
   "source": [
    "### Loss Function and Optimizer"
   ]
  },
  {
   "cell_type": "code",
   "execution_count": 119,
   "metadata": {
    "id": "ZEZODIIK6B9i"
   },
   "outputs": [],
   "source": [
    "criterion = nn.CrossEntropyLoss()\n",
    "optimizer = torch.optim.Adam(params = model.parameters(), lr = LEARNING_RATE)\n"
   ]
  },
  {
   "cell_type": "code",
   "execution_count": 120,
   "metadata": {
    "colab": {
     "base_uri": "https://localhost:8080/"
    },
    "id": "7ZdbM6LN7Nyy",
    "outputId": "fa2aa46d-30b4-4374-d4ae-bf4e9fe84af7"
   },
   "outputs": [
    {
     "data": {
      "text/plain": [
       "Adam (\n",
       "Parameter Group 0\n",
       "    amsgrad: False\n",
       "    betas: (0.9, 0.999)\n",
       "    capturable: False\n",
       "    differentiable: False\n",
       "    eps: 1e-08\n",
       "    foreach: None\n",
       "    fused: None\n",
       "    lr: 0.0003\n",
       "    maximize: False\n",
       "    weight_decay: 0\n",
       ")"
      ]
     },
     "execution_count": 120,
     "metadata": {},
     "output_type": "execute_result"
    }
   ],
   "source": [
    "optimizer"
   ]
  },
  {
   "cell_type": "markdown",
   "metadata": {},
   "source": [
    "### Train Function"
   ]
  },
  {
   "cell_type": "code",
   "execution_count": 121,
   "metadata": {
    "id": "9rA5ZSiX2Osm"
   },
   "outputs": [],
   "source": [
    "def train(model, loader, optimizer, criterion):\n",
    "  model.train()\n",
    "  total_loss , correct = 0,0\n",
    "  for x, y in loader:\n",
    "    x, y = x.to(device), y.to(device)\n",
    "    optimizer.zero_grad()\n",
    "    out = model(x)\n",
    "    loss = criterion(out, y)\n",
    "    loss.backward()\n",
    "    optimizer.step()\n",
    "    total_loss += loss.item()\n",
    "    correct += (out.argmax(1)==y).type(torch.float).sum().item()\n",
    "  return total_loss/len(loader.dataset), correct/len(loader.dataset)"
   ]
  },
  {
   "cell_type": "code",
   "execution_count": 122,
   "metadata": {
    "id": "x-5KBi8h4luR"
   },
   "outputs": [],
   "source": [
    "def evaluate(model,loader):\n",
    "  model.eval()\n",
    "  correct = 0\n",
    "  with torch.inference_mode():\n",
    "    for x, y in loader:\n",
    "      x, y = x.to(device), y.to(device)\n",
    "      out = model(x)\n",
    "      correct += (out.argmax(1) == y).sum().item()\n",
    "  return correct/ len(loader.dataset)"
   ]
  },
  {
   "cell_type": "code",
   "execution_count": 123,
   "metadata": {
    "id": "FYhf5gf_6hHM"
   },
   "outputs": [],
   "source": [
    "from tqdm.auto import tqdm"
   ]
  },
  {
   "cell_type": "code",
   "execution_count": null,
   "metadata": {},
   "outputs": [],
   "source": []
  },
  {
   "cell_type": "code",
   "execution_count": 124,
   "metadata": {
    "colab": {
     "base_uri": "https://localhost:8080/",
     "height": 596,
     "referenced_widgets": [
      "d55514a281ae443884e7004ffb8dec36",
      "22253742ff11464f9655a503866a58f6",
      "3ce27b582c7e4631bead3355f73642f0",
      "b9b0d6cbfd6845aea71da49c837c69b9",
      "2832b24f196c45d0887eedebd7a15ff7",
      "445147f92d784cb39c9a05bfedded399",
      "854d72616ae04e41b7881f9e2f010038",
      "9be24fe03a70483ca619557b6e47523c",
      "031510ea6ff3466fa060550b9fdc88c1",
      "0761a36ac9e74a6b97fcee51acaffa36",
      "9a35a0bdd0f741ab9b35d81d40e9188d"
     ]
    },
    "id": "CN2sY-R45ewH",
    "outputId": "6dd7ff05-ef85-49f5-ef83-92285a6b8a4a"
   },
   "outputs": [
    {
     "data": {
      "application/vnd.jupyter.widget-view+json": {
       "model_id": "d55514a281ae443884e7004ffb8dec36",
       "version_major": 2,
       "version_minor": 0
      },
      "text/plain": [
       "  0%|          | 0/30 [00:00<?, ?it/s]"
      ]
     },
     "metadata": {},
     "output_type": "display_data"
    },
    {
     "name": "stdout",
     "output_type": "stream",
     "text": [
      "epoch:1/30, train_loss:0.0155, train_acc:0.2687%, test_acc:0.3493% \n",
      "epoch:2/30, train_loss:0.0132, train_acc:0.3873%, test_acc:0.4265% \n",
      "epoch:3/30, train_loss:0.0123, train_acc:0.4338%, test_acc:0.4589% \n",
      "epoch:4/30, train_loss:0.0116, train_acc:0.4664%, test_acc:0.4932% \n",
      "epoch:5/30, train_loss:0.0111, train_acc:0.4913%, test_acc:0.4974% \n",
      "epoch:6/30, train_loss:0.0107, train_acc:0.5117%, test_acc:0.5233% \n",
      "epoch:7/30, train_loss:0.0103, train_acc:0.5305%, test_acc:0.5412% \n",
      "epoch:8/30, train_loss:0.0099, train_acc:0.5470%, test_acc:0.5647% \n",
      "epoch:9/30, train_loss:0.0096, train_acc:0.5643%, test_acc:0.5708% \n",
      "epoch:10/30, train_loss:0.0092, train_acc:0.5823%, test_acc:0.5857% \n",
      "epoch:11/30, train_loss:0.0089, train_acc:0.5950%, test_acc:0.5939% \n",
      "epoch:12/30, train_loss:0.0087, train_acc:0.6074%, test_acc:0.6177% \n",
      "epoch:13/30, train_loss:0.0084, train_acc:0.6192%, test_acc:0.6214% \n",
      "epoch:14/30, train_loss:0.0082, train_acc:0.6283%, test_acc:0.6225% \n",
      "epoch:15/30, train_loss:0.0079, train_acc:0.6409%, test_acc:0.6343% \n",
      "epoch:16/30, train_loss:0.0077, train_acc:0.6508%, test_acc:0.6428% \n",
      "epoch:17/30, train_loss:0.0075, train_acc:0.6602%, test_acc:0.6592% \n",
      "epoch:18/30, train_loss:0.0073, train_acc:0.6670%, test_acc:0.6685% \n",
      "epoch:19/30, train_loss:0.0071, train_acc:0.6771%, test_acc:0.6584% \n",
      "epoch:20/30, train_loss:0.0069, train_acc:0.6841%, test_acc:0.6781% \n",
      "epoch:21/30, train_loss:0.0068, train_acc:0.6924%, test_acc:0.6801% \n",
      "epoch:22/30, train_loss:0.0066, train_acc:0.7023%, test_acc:0.6910% \n",
      "epoch:23/30, train_loss:0.0064, train_acc:0.7099%, test_acc:0.6973% \n",
      "epoch:24/30, train_loss:0.0063, train_acc:0.7192%, test_acc:0.7040% \n",
      "epoch:25/30, train_loss:0.0061, train_acc:0.7257%, test_acc:0.6975% \n",
      "epoch:26/30, train_loss:0.0059, train_acc:0.7323%, test_acc:0.7057% \n",
      "epoch:27/30, train_loss:0.0058, train_acc:0.7385%, test_acc:0.7065% \n",
      "epoch:28/30, train_loss:0.0057, train_acc:0.7433%, test_acc:0.7026% \n",
      "epoch:29/30, train_loss:0.0056, train_acc:0.7476%, test_acc:0.7154% \n",
      "epoch:30/30, train_loss:0.0054, train_acc:0.7530%, test_acc:0.7216% \n"
     ]
    }
   ],
   "source": [
    "train_accuracies = []\n",
    "test_accuracies = []\n",
    "for epoch in tqdm(range(EPOCHS)):\n",
    "  train_loss, train_acc = train(model, train_loader, optimizer, criterion)\n",
    "  test_acc = evaluate(model, test_loader)\n",
    "  train_accuracies.append(train_acc)\n",
    "  test_accuracies.append(test_acc)\n",
    "  print(f\"epoch:{epoch+1}/{EPOCHS}, train_loss:{train_loss:.4f}, train_acc:{train_acc:.4f}%, test_acc:{test_acc:.4f}% \")"
   ]
  },
  {
   "cell_type": "code",
   "execution_count": 125,
   "metadata": {
    "colab": {
     "base_uri": "https://localhost:8080/"
    },
    "id": "QJ05X6uFLRR2",
    "outputId": "64ff96a2-6cc9-4b4a-87b5-6f63c5306139"
   },
   "outputs": [
    {
     "data": {
      "text/plain": [
       "[0.26868,\n",
       " 0.38732,\n",
       " 0.43384,\n",
       " 0.4664,\n",
       " 0.49134,\n",
       " 0.51168,\n",
       " 0.53046,\n",
       " 0.547,\n",
       " 0.5643,\n",
       " 0.58228,\n",
       " 0.59504,\n",
       " 0.6074,\n",
       " 0.6192,\n",
       " 0.62834,\n",
       " 0.64094,\n",
       " 0.65082,\n",
       " 0.66022,\n",
       " 0.66698,\n",
       " 0.67712,\n",
       " 0.6841,\n",
       " 0.69236,\n",
       " 0.70234,\n",
       " 0.70986,\n",
       " 0.71918,\n",
       " 0.72574,\n",
       " 0.73228,\n",
       " 0.7385,\n",
       " 0.7433,\n",
       " 0.74762,\n",
       " 0.75302]"
      ]
     },
     "execution_count": 125,
     "metadata": {},
     "output_type": "execute_result"
    }
   ],
   "source": [
    "train_accuracies"
   ]
  },
  {
   "cell_type": "code",
   "execution_count": 126,
   "metadata": {
    "colab": {
     "base_uri": "https://localhost:8080/"
    },
    "id": "QurwAKTULqJC",
    "outputId": "af239abf-433f-4066-c4f9-e267bc343d83"
   },
   "outputs": [
    {
     "data": {
      "text/plain": [
       "[0.3493,\n",
       " 0.4265,\n",
       " 0.4589,\n",
       " 0.4932,\n",
       " 0.4974,\n",
       " 0.5233,\n",
       " 0.5412,\n",
       " 0.5647,\n",
       " 0.5708,\n",
       " 0.5857,\n",
       " 0.5939,\n",
       " 0.6177,\n",
       " 0.6214,\n",
       " 0.6225,\n",
       " 0.6343,\n",
       " 0.6428,\n",
       " 0.6592,\n",
       " 0.6685,\n",
       " 0.6584,\n",
       " 0.6781,\n",
       " 0.6801,\n",
       " 0.691,\n",
       " 0.6973,\n",
       " 0.704,\n",
       " 0.6975,\n",
       " 0.7057,\n",
       " 0.7065,\n",
       " 0.7026,\n",
       " 0.7154,\n",
       " 0.7216]"
      ]
     },
     "execution_count": 126,
     "metadata": {},
     "output_type": "execute_result"
    }
   ],
   "source": [
    "test_accuracies"
   ]
  },
  {
   "cell_type": "code",
   "execution_count": 127,
   "metadata": {
    "colab": {
     "base_uri": "https://localhost:8080/",
     "height": 472
    },
    "id": "wQ8kW7lNLtXE",
    "outputId": "3bd9d14b-f646-4b92-8cc3-eb7fab3f8b76"
   },
   "outputs": [
    {
     "data": {
      "image/png": "[encoded data removed]",
      "text/plain": [
       "<Figure size 640x480 with 1 Axes>"
      ]
     },
     "metadata": {},
     "output_type": "display_data"
    }
   ],
   "source": [
    "plt.plot(train_accuracies, label = 'train_acc')\n",
    "plt.plot(test_accuracies, label = 'test_acc')\n",
    "plt.legend()\n",
    "plt.xlabel('epoch')\n",
    "plt.ylabel('accuracy')\n",
    "plt.title('accuracy vs epoch')\n",
    "plt.show()"
   ]
  },
  {
   "cell_type": "code",
   "execution_count": 128,
   "metadata": {
    "colab": {
     "base_uri": "https://localhost:8080/"
    },
    "id": "6sKFDUHxOeoq",
    "outputId": "73e1b778-d48a-48d5-d57a-05a3ac516f92"
   },
   "outputs": [
    {
     "data": {
      "text/plain": [
       "Dataset CIFAR10\n",
       "    Number of datapoints: 10000\n",
       "    Root location: data\n",
       "    Split: Test\n",
       "    StandardTransform\n",
       "Transform: Compose(\n",
       "               RandomCrop(size=(32, 32), padding=4)\n",
       "               RandomHorizontalFlip(p=0.5)\n",
       "               RandomRotation(degrees=[-10.0, 10.0], interpolation=nearest, expand=False, fill=0)\n",
       "               ColorJitter(brightness=(0.8, 1.2), contrast=(0.8, 1.2), saturation=(0.8, 1.2), hue=(-0.2, 0.2))\n",
       "               ToTensor()\n",
       "               Normalize(mean=0.5, std=0.5)\n",
       "           )"
      ]
     },
     "execution_count": 128,
     "metadata": {},
     "output_type": "execute_result"
    }
   ],
   "source": [
    "test_dataset"
   ]
  },
  {
   "cell_type": "code",
   "execution_count": 129,
   "metadata": {
    "colab": {
     "base_uri": "https://localhost:8080/"
    },
    "id": "kXkMyyRUOkW5",
    "outputId": "cdbb859a-5e35-4027-df3d-518fb696e2e3"
   },
   "outputs": [
    {
     "data": {
      "text/plain": [
       "tensor([[[0.0000, 0.0000, 0.0000,  ..., 0.0000, 0.0000, 0.0000],\n",
       "         [0.0000, 0.0000, 0.0000,  ..., 0.0000, 0.0000, 0.0000],\n",
       "         [0.0000, 0.0000, 0.0000,  ..., 0.5961, 0.6353, 0.6196],\n",
       "         ...,\n",
       "         [0.0000, 0.0000, 0.0000,  ..., 0.1804, 0.0000, 0.0000],\n",
       "         [0.0000, 0.0000, 0.0000,  ..., 0.1255, 0.0000, 0.0000],\n",
       "         [0.0000, 0.0000, 0.0000,  ..., 0.1059, 0.0000, 0.0000]],\n",
       "\n",
       "        [[0.0000, 0.0000, 0.0000,  ..., 0.0000, 0.0000, 0.0000],\n",
       "         [0.0000, 0.0000, 0.0000,  ..., 0.0000, 0.0000, 0.0000],\n",
       "         [0.0000, 0.0000, 0.0000,  ..., 0.2706, 0.2510, 0.2039],\n",
       "         ...,\n",
       "         [0.0000, 0.0000, 0.0000,  ..., 0.6314, 0.0000, 0.0000],\n",
       "         [0.0000, 0.0000, 0.0000,  ..., 0.5529, 0.0000, 0.0000],\n",
       "         [0.0000, 0.0000, 0.0000,  ..., 0.5216, 0.0000, 0.0000]],\n",
       "\n",
       "        [[0.0000, 0.0000, 0.0000,  ..., 0.0000, 0.0000, 0.0000],\n",
       "         [0.0000, 0.0000, 0.0000,  ..., 0.0000, 0.0000, 0.0000],\n",
       "         [0.0000, 0.0000, 0.0000,  ..., 0.4078, 0.4039, 0.3608],\n",
       "         ...,\n",
       "         [0.0000, 0.0000, 0.0000,  ..., 0.3922, 0.0000, 0.0000],\n",
       "         [0.0000, 0.0000, 0.0000,  ..., 0.3373, 0.0000, 0.0000],\n",
       "         [0.0000, 0.0000, 0.0000,  ..., 0.3098, 0.0000, 0.0000]]])"
      ]
     },
     "execution_count": 129,
     "metadata": {},
     "output_type": "execute_result"
    }
   ],
   "source": [
    "test_dataset[0][0] /2 + 0.5"
   ]
  },
  {
   "cell_type": "code",
   "execution_count": 130,
   "metadata": {
    "id": "EXLlw5oCMSjA"
   },
   "outputs": [],
   "source": [
    "def predict_and_plot(model,dataset, classes, grid_size=3):\n",
    "  model.eval()\n",
    "  fig, axes = plt.subplots(grid_size,grid_size, figsize = (9,9))\n",
    "  for i in range(grid_size):\n",
    "    for j in range(grid_size):\n",
    "      index = random.randint(0,len(dataset)-1)\n",
    "      image, true_label = dataset[index]\n",
    "      input_tensor = image.unsqueeze(dim = 0).to(device)\n",
    "      with torch.inference_mode():\n",
    "        output = model(input_tensor)\n",
    "        _,predicted = torch.max(output.data,1)\n",
    "      image = image /2 + 0.5\n",
    "      npimg = image.cpu().numpy()\n",
    "      axes[i,j].imshow(np.transpose(npimg,(1,2,0)))\n",
    "      truth = classes[true_label] == classes[predicted.item()]\n",
    "      if truth:\n",
    "        color = 'g'\n",
    "      else:\n",
    "        color = 'r'\n",
    "      axes[i,j].set_title(f\"truth: {classes[true_label]}\\n, predicted :{classes[predicted.item()]}\",fontsize = 10, color = color)\n",
    "      axes[i,j].axis('off')\n",
    "  plt.tight_layout()\n",
    "  plt.show()"
   ]
  },
  {
   "cell_type": "code",
   "execution_count": 131,
   "metadata": {
    "colab": {
     "base_uri": "https://localhost:8080/",
     "height": 906
    },
    "id": "OoAZDkoPQP-n",
    "outputId": "5902fb94-8019-49c7-d5dd-8b8b5f093749"
   },
   "outputs": [
    {
     "data": {
      "image/png": "[encoded data removed]",
      "text/plain": [
       "<Figure size 900x900 with 9 Axes>"
      ]
     },
     "metadata": {},
     "output_type": "display_data"
    }
   ],
   "source": [
    "predict_and_plot(model, test_dataset, test_dataset.classes)"
   ]
  },
  {
   "cell_type": "code",
   "execution_count": null,
   "metadata": {
    "id": "cda08ju6RCwc"
   },
   "outputs": [],
   "source": []
  }
 ],
 "metadata": {
  "accelerator": "GPU",
  "colab": {
   "gpuType": "T4",
   "provenance": []
  },
  "kernelspec": {
   "display_name": "Python 3 (ipykernel)",
   "language": "python",
   "name": "python3"
  },
  "language_info": {
   "codemirror_mode": {
    "name": "ipython",
    "version": 3
   },
   "file_extension": ".py",
   "mimetype": "text/x-python",
   "name": "python",
   "nbconvert_exporter": "python",
   "pygments_lexer": "ipython3",
   "version": "3.12.2"
  },
  "widgets": {
   "application/vnd.jupyter.widget-state+json": {
    "031510ea6ff3466fa060550b9fdc88c1": {
     "model_module": "@jupyter-widgets/controls",
     "model_module_version": "1.5.0",
     "model_name": "ProgressStyleModel",
     "state": {
      "_model_module": "@jupyter-widgets/controls",
      "_model_module_version": "1.5.0",
      "_model_name": "ProgressStyleModel",
      "_view_count": null,
      "_view_module": "@jupyter-widgets/base",
      "_view_module_version": "1.2.0",
      "_view_name": "StyleView",
      "bar_color": null,
      "description_width": ""
     }
    },
    "0761a36ac9e74a6b97fcee51acaffa36": {
     "model_module": "@jupyter-widgets/base",
     "model_module_version": "1.2.0",
     "model_name": "LayoutModel",
     "state": {
      "_model_module": "@jupyter-widgets/base",
      "_model_module_version": "1.2.0",
      "_model_name": "LayoutModel",
      "_view_count": null,
      "_view_module": "@jupyter-widgets/base",
      "_view_module_version": "1.2.0",
      "_view_name": "LayoutView",
      "align_content": null,
      "align_items": null,
      "align_self": null,
      "border": null,
      "bottom": null,
      "display": null,
      "flex": null,
      "flex_flow": null,
      "grid_area": null,
      "grid_auto_columns": null,
      "grid_auto_flow": null,
      "grid_auto_rows": null,
      "grid_column": null,
      "grid_gap": null,
      "grid_row": null,
      "grid_template_areas": null,
      "grid_template_columns": null,
      "grid_template_rows": null,
      "height": null,
      "justify_content": null,
      "justify_items": null,
      "left": null,
      "margin": null,
      "max_height": null,
      "max_width": null,
      "min_height": null,
      "min_width": null,
      "object_fit": null,
      "object_position": null,
      "order": null,
      "overflow": null,
      "overflow_x": null,
      "overflow_y": null,
      "padding": null,
      "right": null,
      "top": null,
      "visibility": null,
      "width": null
     }
    },
    "22253742ff11464f9655a503866a58f6": {
     "model_module": "@jupyter-widgets/controls",
     "model_module_version": "1.5.0",
     "model_name": "HTMLModel",
     "state": {
      "_dom_classes": [],
      "_model_module": "@jupyter-widgets/controls",
      "_model_module_version": "1.5.0",
      "_model_name": "HTMLModel",
      "_view_count": null,
      "_view_module": "@jupyter-widgets/controls",
      "_view_module_version": "1.5.0",
      "_view_name": "HTMLView",
      "description": "",
      "description_tooltip": null,
      "layout": "IPY_MODEL_445147f92d784cb39c9a05bfedded399",
      "placeholder": "​",
      "style": "IPY_MODEL_854d72616ae04e41b7881f9e2f010038",
      "value": "100%"
     }
    },
    "2832b24f196c45d0887eedebd7a15ff7": {
     "model_module": "@jupyter-widgets/base",
     "model_module_version": "1.2.0",
     "model_name": "LayoutModel",
     "state": {
      "_model_module": "@jupyter-widgets/base",
      "_model_module_version": "1.2.0",
      "_model_name": "LayoutModel",
      "_view_count": null,
      "_view_module": "@jupyter-widgets/base",
      "_view_module_version": "1.2.0",
      "_view_name": "LayoutView",
      "align_content": null,
      "align_items": null,
      "align_self": null,
      "border": null,
      "bottom": null,
      "display": null,
      "flex": null,
      "flex_flow": null,
      "grid_area": null,
      "grid_auto_columns": null,
      "grid_auto_flow": null,
      "grid_auto_rows": null,
      "grid_column": null,
      "grid_gap": null,
      "grid_row": null,
      "grid_template_areas": null,
      "grid_template_columns": null,
      "grid_template_rows": null,
      "height": null,
      "justify_content": null,
      "justify_items": null,
      "left": null,
      "margin": null,
      "max_height": null,
      "max_width": null,
      "min_height": null,
      "min_width": null,
      "object_fit": null,
      "object_position": null,
      "order": null,
      "overflow": null,
      "overflow_x": null,
      "overflow_y": null,
      "padding": null,
      "right": null,
      "top": null,
      "visibility": null,
      "width": null
     }
    },
    "3ce27b582c7e4631bead3355f73642f0": {
     "model_module": "@jupyter-widgets/controls",
     "model_module_version": "1.5.0",
     "model_name": "FloatProgressModel",
     "state": {
      "_dom_classes": [],
      "_model_module": "@jupyter-widgets/controls",
      "_model_module_version": "1.5.0",
      "_model_name": "FloatProgressModel",
      "_view_count": null,
      "_view_module": "@jupyter-widgets/controls",
      "_view_module_version": "1.5.0",
      "_view_name": "ProgressView",
      "bar_style": "success",
      "description": "",
      "description_tooltip": null,
      "layout": "IPY_MODEL_9be24fe03a70483ca619557b6e47523c",
      "max": 30,
      "min": 0,
      "orientation": "horizontal",
      "style": "IPY_MODEL_031510ea6ff3466fa060550b9fdc88c1",
      "value": 30
     }
    },
    "445147f92d784cb39c9a05bfedded399": {
     "model_module": "@jupyter-widgets/base",
     "model_module_version": "1.2.0",
     "model_name": "LayoutModel",
     "state": {
      "_model_module": "@jupyter-widgets/base",
      "_model_module_version": "1.2.0",
      "_model_name": "LayoutModel",
      "_view_count": null,
      "_view_module": "@jupyter-widgets/base",
      "_view_module_version": "1.2.0",
      "_view_name": "LayoutView",
      "align_content": null,
      "align_items": null,
      "align_self": null,
      "border": null,
      "bottom": null,
      "display": null,
      "flex": null,
      "flex_flow": null,
      "grid_area": null,
      "grid_auto_columns": null,
      "grid_auto_flow": null,
      "grid_auto_rows": null,
      "grid_column": null,
      "grid_gap": null,
      "grid_row": null,
      "grid_template_areas": null,
      "grid_template_columns": null,
      "grid_template_rows": null,
      "height": null,
      "justify_content": null,
      "justify_items": null,
      "left": null,
      "margin": null,
      "max_height": null,
      "max_width": null,
      "min_height": null,
      "min_width": null,
      "object_fit": null,
      "object_position": null,
      "order": null,
      "overflow": null,
      "overflow_x": null,
      "overflow_y": null,
      "padding": null,
      "right": null,
      "top": null,
      "visibility": null,
      "width": null
     }
    },
    "854d72616ae04e41b7881f9e2f010038": {
     "model_module": "@jupyter-widgets/controls",
     "model_module_version": "1.5.0",
     "model_name": "DescriptionStyleModel",
     "state": {
      "_model_module": "@jupyter-widgets/controls",
      "_model_module_version": "1.5.0",
      "_model_name": "DescriptionStyleModel",
      "_view_count": null,
      "_view_module": "@jupyter-widgets/base",
      "_view_module_version": "1.2.0",
      "_view_name": "StyleView",
      "description_width": ""
     }
    },
    "9a35a0bdd0f741ab9b35d81d40e9188d": {
     "model_module": "@jupyter-widgets/controls",
     "model_module_version": "1.5.0",
     "model_name": "DescriptionStyleModel",
     "state": {
      "_model_module": "@jupyter-widgets/controls",
      "_model_module_version": "1.5.0",
      "_model_name": "DescriptionStyleModel",
      "_view_count": null,
      "_view_module": "@jupyter-widgets/base",
      "_view_module_version": "1.2.0",
      "_view_name": "StyleView",
      "description_width": ""
     }
    },
    "9be24fe03a70483ca619557b6e47523c": {
     "model_module": "@jupyter-widgets/base",
     "model_module_version": "1.2.0",
     "model_name": "LayoutModel",
     "state": {
      "_model_module": "@jupyter-widgets/base",
      "_model_module_version": "1.2.0",
      "_model_name": "LayoutModel",
      "_view_count": null,
      "_view_module": "@jupyter-widgets/base",
      "_view_module_version": "1.2.0",
      "_view_name": "LayoutView",
      "align_content": null,
      "align_items": null,
      "align_self": null,
      "border": null,
      "bottom": null,
      "display": null,
      "flex": null,
      "flex_flow": null,
      "grid_area": null,
      "grid_auto_columns": null,
      "grid_auto_flow": null,
      "grid_auto_rows": null,
      "grid_column": null,
      "grid_gap": null,
      "grid_row": null,
      "grid_template_areas": null,
      "grid_template_columns": null,
      "grid_template_rows": null,
      "height": null,
      "justify_content": null,
      "justify_items": null,
      "left": null,
      "margin": null,
      "max_height": null,
      "max_width": null,
      "min_height": null,
      "min_width": null,
      "object_fit": null,
      "object_position": null,
      "order": null,
      "overflow": null,
      "overflow_x": null,
      "overflow_y": null,
      "padding": null,
      "right": null,
      "top": null,
      "visibility": null,
      "width": null
     }
    },
    "b9b0d6cbfd6845aea71da49c837c69b9": {
     "model_module": "@jupyter-widgets/controls",
     "model_module_version": "1.5.0",
     "model_name": "HTMLModel",
     "state": {
      "_dom_classes": [],
      "_model_module": "@jupyter-widgets/controls",
      "_model_module_version": "1.5.0",
      "_model_name": "HTMLModel",
      "_view_count": null,
      "_view_module": "@jupyter-widgets/controls",
      "_view_module_version": "1.5.0",
      "_view_name": "HTMLView",
      "description": "",
      "description_tooltip": null,
      "layout": "IPY_MODEL_0761a36ac9e74a6b97fcee51acaffa36",
      "placeholder": "​",
      "style": "IPY_MODEL_9a35a0bdd0f741ab9b35d81d40e9188d",
      "value": " 30/30 [1:01:53&lt;00:00, 123.07s/it]"
     }
    },
    "d55514a281ae443884e7004ffb8dec36": {
     "model_module": "@jupyter-widgets/controls",
     "model_module_version": "1.5.0",
     "model_name": "HBoxModel",
     "state": {
      "_dom_classes": [],
      "_model_module": "@jupyter-widgets/controls",
      "_model_module_version": "1.5.0",
      "_model_name": "HBoxModel",
      "_view_count": null,
      "_view_module": "@jupyter-widgets/controls",
      "_view_module_version": "1.5.0",
      "_view_name": "HBoxView",
      "box_style": "",
      "children": [
       "IPY_MODEL_22253742ff11464f9655a503866a58f6",
       "IPY_MODEL_3ce27b582c7e4631bead3355f73642f0",
       "IPY_MODEL_b9b0d6cbfd6845aea71da49c837c69b9"
      ],
      "layout": "IPY_MODEL_2832b24f196c45d0887eedebd7a15ff7"
     }
    }
   }
  }
 },
 "nbformat": 4,
 "nbformat_minor": 4
}
